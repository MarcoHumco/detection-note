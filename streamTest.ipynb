{
 "cells": [
  {
   "cell_type": "code",
   "execution_count": 1,
   "id": "80297776",
   "metadata": {},
   "outputs": [],
   "source": [
    "import cv2 "
   ]
  },
  {
   "cell_type": "code",
   "execution_count": 3,
   "id": "1c71607f",
   "metadata": {},
   "outputs": [],
   "source": [
    "cameCap = cv2.VideoCapture(1) \n",
    "while True:\n",
    "    \n",
    "    ret, frame = cameCap.read()\n",
    "   \n",
    "    cv2.imshow(\"My-image\", frame)\n",
    "    frame = cv2.resize(frame, (100,100))\n",
    " \n",
    "    cv2.imwrite(\"testq.png\", frame)\n",
    "   \n",
    "    if cv2.waitKey(1) & 0xFF == ord(\"q\"):\n",
    "        break\n",
    "cameCap.release() \n",
    "cv2.destroyAllWindows()"
   ]
  }
 ],
 "metadata": {
  "kernelspec": {
   "display_name": "Python 3 (ipykernel)",
   "language": "python",
   "name": "python3"
  },
  "language_info": {
   "codemirror_mode": {
    "name": "ipython",
    "version": 3
   },
   "file_extension": ".py",
   "mimetype": "text/x-python",
   "name": "python",
   "nbconvert_exporter": "python",
   "pygments_lexer": "ipython3",
   "version": "3.9.12"
  }
 },
 "nbformat": 4,
 "nbformat_minor": 5
}
